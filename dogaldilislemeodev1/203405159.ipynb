{
  "nbformat": 4,
  "nbformat_minor": 0,
  "metadata": {
    "colab": {
      "provenance": []
    },
    "kernelspec": {
      "name": "python3",
      "display_name": "Python 3"
    },
    "language_info": {
      "name": "python"
    }
  },
  "cells": [
    {
      "cell_type": "code",
      "execution_count": 3,
      "metadata": {
        "id": "DbknXETr9AuE"
      },
      "outputs": [],
      "source": [
        "import pandas as pd"
      ]
    },
    {
      "cell_type": "code",
      "source": [
        "df = pd.read_csv(\"filmler_clean.csv\")"
      ],
      "metadata": {
        "id": "QGlfYbvz9PnN"
      },
      "execution_count": 7,
      "outputs": []
    },
    {
      "cell_type": "code",
      "source": [
        "df.head()"
      ],
      "metadata": {
        "colab": {
          "base_uri": "https://localhost:8080/",
          "height": 354
        },
        "id": "y0zto7DL9Rg0",
        "outputId": "42ced081-69f6-443b-a2b6-857df9881246"
      },
      "execution_count": 9,
      "outputs": [
        {
          "output_type": "execute_result",
          "data": {
            "text/plain": [
              "                                      film adi  \\\n",
              "0                                       Bergen   \n",
              "1                                Kirpi Sonic 2   \n",
              "2  Fantastik Canavarlar: Dumbledore'un Sırları   \n",
              "3                               Aykut Enişte 2   \n",
              "4                                      Morbius   \n",
              "\n",
              "                                    ozet ve detaylar  \\\n",
              "0  Arabeskin unutulmayan kadın seslerinden biri o...   \n",
              "1  Çocuk filmi \\n\\n\\nKirpi Sonic filminin devam h...   \n",
              "2  Karanlık büyücü Gellert Grindelwald, büyücülük...   \n",
              "3  Aykut Enişte 2, sevdiği kadınla evlilik arifes...   \n",
              "4  Morbius, hastalığına deva bulmaya çalışırken b...   \n",
              "\n",
              "                                  tur  \\\n",
              "0              ['Dram', 'Biyografik']   \n",
              "1     ['Animasyon', 'Aile', 'Macera']   \n",
              "2             ['Fantastik', 'Macera']   \n",
              "3                          ['Komedi']   \n",
              "4  ['Aksiyon', 'Fantastik', 'Macera']   \n",
              "\n",
              "                                           oyuncular  \\\n",
              "0  ['Farah Zeynep Abdullah', 'Erdal Beşikçioğlu',...   \n",
              "1              ['Jim Carrey', 'James Marsden', None]   \n",
              "2   ['Eddie Redmayne', 'Jude Law', 'Mads Mikkelsen']   \n",
              "3  ['Cem Gelinoğlu', 'Melis Babadağ', 'Hakan Yılm...   \n",
              "4  ['Jared Leto', 'Matt Smith (XI)', 'Adria Arjona']   \n",
              "\n",
              "                          yonetmen  vizyon tarihi     sure  \\\n",
              "0  ['Mehmet Binay', 'Caner Alper']    4 Mart 2022  2s 26dk   \n",
              "1                  ['Jeff Fowler']   8 Nisan 2022   2s 2dk   \n",
              "2                  ['David Yates']  15 Nisan 2022  2s 22dk   \n",
              "3                ['Onur Bilgetay']  3 Aralık 2021  1s 55dk   \n",
              "4              ['Daniel Espinosa']   1 Nisan 2022  1s 45dk   \n",
              "\n",
              "                                               clean  \n",
              "0  arabesk unutmak kadın ses o Bergen inmek hayat...  \n",
              "1  çocuk film kirpi Sonic film deva halka o yapım...  \n",
              "2  Karanlık büyü Gellert Grindelwald büyü Dünya k...  \n",
              "3  Aykut enişte 2 sevmek kadın ev arife kendi tür...  \n",
              "4  Morbius hastalık deva bulmak Çalışır bambaşka ...  "
            ],
            "text/html": [
              "\n",
              "  <div id=\"df-40aaf32d-63d3-4bb6-bb66-0712db24fa58\">\n",
              "    <div class=\"colab-df-container\">\n",
              "      <div>\n",
              "<style scoped>\n",
              "    .dataframe tbody tr th:only-of-type {\n",
              "        vertical-align: middle;\n",
              "    }\n",
              "\n",
              "    .dataframe tbody tr th {\n",
              "        vertical-align: top;\n",
              "    }\n",
              "\n",
              "    .dataframe thead th {\n",
              "        text-align: right;\n",
              "    }\n",
              "</style>\n",
              "<table border=\"1\" class=\"dataframe\">\n",
              "  <thead>\n",
              "    <tr style=\"text-align: right;\">\n",
              "      <th></th>\n",
              "      <th>film adi</th>\n",
              "      <th>ozet ve detaylar</th>\n",
              "      <th>tur</th>\n",
              "      <th>oyuncular</th>\n",
              "      <th>yonetmen</th>\n",
              "      <th>vizyon tarihi</th>\n",
              "      <th>sure</th>\n",
              "      <th>clean</th>\n",
              "    </tr>\n",
              "  </thead>\n",
              "  <tbody>\n",
              "    <tr>\n",
              "      <th>0</th>\n",
              "      <td>Bergen</td>\n",
              "      <td>Arabeskin unutulmayan kadın seslerinden biri o...</td>\n",
              "      <td>['Dram', 'Biyografik']</td>\n",
              "      <td>['Farah Zeynep Abdullah', 'Erdal Beşikçioğlu',...</td>\n",
              "      <td>['Mehmet Binay', 'Caner Alper']</td>\n",
              "      <td>4 Mart 2022</td>\n",
              "      <td>2s 26dk</td>\n",
              "      <td>arabesk unutmak kadın ses o Bergen inmek hayat...</td>\n",
              "    </tr>\n",
              "    <tr>\n",
              "      <th>1</th>\n",
              "      <td>Kirpi Sonic 2</td>\n",
              "      <td>Çocuk filmi \\n\\n\\nKirpi Sonic filminin devam h...</td>\n",
              "      <td>['Animasyon', 'Aile', 'Macera']</td>\n",
              "      <td>['Jim Carrey', 'James Marsden', None]</td>\n",
              "      <td>['Jeff Fowler']</td>\n",
              "      <td>8 Nisan 2022</td>\n",
              "      <td>2s 2dk</td>\n",
              "      <td>çocuk film kirpi Sonic film deva halka o yapım...</td>\n",
              "    </tr>\n",
              "    <tr>\n",
              "      <th>2</th>\n",
              "      <td>Fantastik Canavarlar: Dumbledore'un Sırları</td>\n",
              "      <td>Karanlık büyücü Gellert Grindelwald, büyücülük...</td>\n",
              "      <td>['Fantastik', 'Macera']</td>\n",
              "      <td>['Eddie Redmayne', 'Jude Law', 'Mads Mikkelsen']</td>\n",
              "      <td>['David Yates']</td>\n",
              "      <td>15 Nisan 2022</td>\n",
              "      <td>2s 22dk</td>\n",
              "      <td>Karanlık büyü Gellert Grindelwald büyü Dünya k...</td>\n",
              "    </tr>\n",
              "    <tr>\n",
              "      <th>3</th>\n",
              "      <td>Aykut Enişte 2</td>\n",
              "      <td>Aykut Enişte 2, sevdiği kadınla evlilik arifes...</td>\n",
              "      <td>['Komedi']</td>\n",
              "      <td>['Cem Gelinoğlu', 'Melis Babadağ', 'Hakan Yılm...</td>\n",
              "      <td>['Onur Bilgetay']</td>\n",
              "      <td>3 Aralık 2021</td>\n",
              "      <td>1s 55dk</td>\n",
              "      <td>Aykut enişte 2 sevmek kadın ev arife kendi tür...</td>\n",
              "    </tr>\n",
              "    <tr>\n",
              "      <th>4</th>\n",
              "      <td>Morbius</td>\n",
              "      <td>Morbius, hastalığına deva bulmaya çalışırken b...</td>\n",
              "      <td>['Aksiyon', 'Fantastik', 'Macera']</td>\n",
              "      <td>['Jared Leto', 'Matt Smith (XI)', 'Adria Arjona']</td>\n",
              "      <td>['Daniel Espinosa']</td>\n",
              "      <td>1 Nisan 2022</td>\n",
              "      <td>1s 45dk</td>\n",
              "      <td>Morbius hastalık deva bulmak Çalışır bambaşka ...</td>\n",
              "    </tr>\n",
              "  </tbody>\n",
              "</table>\n",
              "</div>\n",
              "      <button class=\"colab-df-convert\" onclick=\"convertToInteractive('df-40aaf32d-63d3-4bb6-bb66-0712db24fa58')\"\n",
              "              title=\"Convert this dataframe to an interactive table.\"\n",
              "              style=\"display:none;\">\n",
              "        \n",
              "  <svg xmlns=\"http://www.w3.org/2000/svg\" height=\"24px\"viewBox=\"0 0 24 24\"\n",
              "       width=\"24px\">\n",
              "    <path d=\"M0 0h24v24H0V0z\" fill=\"none\"/>\n",
              "    <path d=\"M18.56 5.44l.94 2.06.94-2.06 2.06-.94-2.06-.94-.94-2.06-.94 2.06-2.06.94zm-11 1L8.5 8.5l.94-2.06 2.06-.94-2.06-.94L8.5 2.5l-.94 2.06-2.06.94zm10 10l.94 2.06.94-2.06 2.06-.94-2.06-.94-.94-2.06-.94 2.06-2.06.94z\"/><path d=\"M17.41 7.96l-1.37-1.37c-.4-.4-.92-.59-1.43-.59-.52 0-1.04.2-1.43.59L10.3 9.45l-7.72 7.72c-.78.78-.78 2.05 0 2.83L4 21.41c.39.39.9.59 1.41.59.51 0 1.02-.2 1.41-.59l7.78-7.78 2.81-2.81c.8-.78.8-2.07 0-2.86zM5.41 20L4 18.59l7.72-7.72 1.47 1.35L5.41 20z\"/>\n",
              "  </svg>\n",
              "      </button>\n",
              "      \n",
              "  <style>\n",
              "    .colab-df-container {\n",
              "      display:flex;\n",
              "      flex-wrap:wrap;\n",
              "      gap: 12px;\n",
              "    }\n",
              "\n",
              "    .colab-df-convert {\n",
              "      background-color: #E8F0FE;\n",
              "      border: none;\n",
              "      border-radius: 50%;\n",
              "      cursor: pointer;\n",
              "      display: none;\n",
              "      fill: #1967D2;\n",
              "      height: 32px;\n",
              "      padding: 0 0 0 0;\n",
              "      width: 32px;\n",
              "    }\n",
              "\n",
              "    .colab-df-convert:hover {\n",
              "      background-color: #E2EBFA;\n",
              "      box-shadow: 0px 1px 2px rgba(60, 64, 67, 0.3), 0px 1px 3px 1px rgba(60, 64, 67, 0.15);\n",
              "      fill: #174EA6;\n",
              "    }\n",
              "\n",
              "    [theme=dark] .colab-df-convert {\n",
              "      background-color: #3B4455;\n",
              "      fill: #D2E3FC;\n",
              "    }\n",
              "\n",
              "    [theme=dark] .colab-df-convert:hover {\n",
              "      background-color: #434B5C;\n",
              "      box-shadow: 0px 1px 3px 1px rgba(0, 0, 0, 0.15);\n",
              "      filter: drop-shadow(0px 1px 2px rgba(0, 0, 0, 0.3));\n",
              "      fill: #FFFFFF;\n",
              "    }\n",
              "  </style>\n",
              "\n",
              "      <script>\n",
              "        const buttonEl =\n",
              "          document.querySelector('#df-40aaf32d-63d3-4bb6-bb66-0712db24fa58 button.colab-df-convert');\n",
              "        buttonEl.style.display =\n",
              "          google.colab.kernel.accessAllowed ? 'block' : 'none';\n",
              "\n",
              "        async function convertToInteractive(key) {\n",
              "          const element = document.querySelector('#df-40aaf32d-63d3-4bb6-bb66-0712db24fa58');\n",
              "          const dataTable =\n",
              "            await google.colab.kernel.invokeFunction('convertToInteractive',\n",
              "                                                     [key], {});\n",
              "          if (!dataTable) return;\n",
              "\n",
              "          const docLinkHtml = 'Like what you see? Visit the ' +\n",
              "            '<a target=\"_blank\" href=https://colab.research.google.com/notebooks/data_table.ipynb>data table notebook</a>'\n",
              "            + ' to learn more about interactive tables.';\n",
              "          element.innerHTML = '';\n",
              "          dataTable['output_type'] = 'display_data';\n",
              "          await google.colab.output.renderOutput(dataTable, element);\n",
              "          const docLink = document.createElement('div');\n",
              "          docLink.innerHTML = docLinkHtml;\n",
              "          element.appendChild(docLink);\n",
              "        }\n",
              "      </script>\n",
              "    </div>\n",
              "  </div>\n",
              "  "
            ]
          },
          "metadata": {},
          "execution_count": 9
        }
      ]
    },
    {
      "cell_type": "code",
      "source": [
        "clean = df[\"clean\"]"
      ],
      "metadata": {
        "id": "bpv8Jdlx9ad1"
      },
      "execution_count": 8,
      "outputs": []
    },
    {
      "cell_type": "code",
      "execution_count": 10,
      "metadata": {
        "id": "wHUW9QzkfOHS",
        "colab": {
          "base_uri": "https://localhost:8080/"
        },
        "outputId": "ef0a175e-ac8d-48a8-84fa-821950ed470e"
      },
      "outputs": [
        {
          "output_type": "execute_result",
          "data": {
            "text/plain": [
              "5261"
            ]
          },
          "metadata": {},
          "execution_count": 10
        }
      ],
      "source": [
        "len(clean)"
      ]
    },
    {
      "cell_type": "code",
      "source": [
        "word2idx = {}\n",
        "idx2word = {}"
      ],
      "metadata": {
        "id": "JD5Wm3CK9vpl"
      },
      "execution_count": 11,
      "outputs": []
    },
    {
      "cell_type": "code",
      "source": [
        "i = 0\n",
        "for cell in clean:\n",
        "    words = cell.split()\n",
        "    for word in words:\n",
        "        if word in word2idx:\n",
        "            continue\n",
        "        word2idx[word] = i\n",
        "        idx2word[i] = word\n",
        "        i += 1"
      ],
      "metadata": {
        "id": "tu6286n99wVV"
      },
      "execution_count": 12,
      "outputs": []
    },
    {
      "cell_type": "code",
      "execution_count": 13,
      "metadata": {
        "id": "1lpto4jgfOHX"
      },
      "outputs": [],
      "source": [
        "import numpy as np"
      ]
    },
    {
      "cell_type": "code",
      "source": [
        "film_sayisi = len(clean)\n",
        "vocab_size = len(word2idx)"
      ],
      "metadata": {
        "id": "-kBd3Iyp9wdj"
      },
      "execution_count": 14,
      "outputs": []
    },
    {
      "cell_type": "code",
      "source": [
        "filmler = np.zeros((film_sayisi, vocab_size))"
      ],
      "metadata": {
        "id": "-oucFgaP9wf9"
      },
      "execution_count": 15,
      "outputs": []
    },
    {
      "cell_type": "code",
      "source": [
        "for i, cell in enumerate(clean):\n",
        "    words = cell.split()\n",
        "    for word in words:\n",
        "        wordIndex = word2idx[word]\n",
        "        filmler[i][wordIndex] += 1"
      ],
      "metadata": {
        "id": "B1JUyfSU-O4e"
      },
      "execution_count": 16,
      "outputs": []
    },
    {
      "cell_type": "code",
      "source": [
        "doc_frequencies = {}"
      ],
      "metadata": {
        "id": "qwLLRxHv-O-b"
      },
      "execution_count": 17,
      "outputs": []
    },
    {
      "cell_type": "code",
      "source": [
        "for word in word2idx:\n",
        "    doc_count = 0\n",
        "    for film in clean:\n",
        "        if word in film:\n",
        "            doc_count += 1\n",
        "    \n",
        "    doc_frequencies[word] = doc_count"
      ],
      "metadata": {
        "id": "mK9ht5cc-PBO"
      },
      "execution_count": 18,
      "outputs": []
    },
    {
      "cell_type": "code",
      "source": [
        "sorted_frequencies = sorted(doc_frequencies, key=doc_frequencies.get, reverse=True)"
      ],
      "metadata": {
        "id": "g0k14fru-PEG"
      },
      "execution_count": 32,
      "outputs": []
    },
    {
      "cell_type": "code",
      "source": [
        "for i in range(5):\n",
        "  sorted_frequencies[i]=0\n",
        "\n"
      ],
      "metadata": {
        "id": "LXO4XTpoK7Oh"
      },
      "execution_count": 33,
      "outputs": []
    },
    {
      "cell_type": "code",
      "source": [
        " \n",
        "  print(sorted_frequencies[2:10])"
      ],
      "metadata": {
        "colab": {
          "base_uri": "https://localhost:8080/"
        },
        "id": "IcIXhxYAMH_J",
        "outputId": "d003b85b-1077-4ca9-9bf9-b48cff3aa279"
      },
      "execution_count": 35,
      "outputs": [
        {
          "output_type": "stream",
          "name": "stdout",
          "text": [
            "[0, 0, 0, 'an', 'er', 'ü', 'bi', 'ya']\n"
          ]
        }
      ]
    },
    {
      "cell_type": "code",
      "source": [
        "for word in sorted_frequencies[-10:]:\n",
        "    print(word, doc_frequencies[word])"
      ],
      "metadata": {
        "colab": {
          "base_uri": "https://localhost:8080/"
        },
        "id": "2tq4cMPB-PMS",
        "outputId": "1e449412-8811-49ef-83bb-1cb4542327d7"
      },
      "execution_count": 23,
      "outputs": [
        {
          "output_type": "stream",
          "name": "stdout",
          "text": [
            "Daddy 1\n",
            "menü 1\n",
            "hindi 1\n",
            "kaçırıldığında 1\n",
            "labaratuarla 1\n",
            "Labaratuarda 1\n",
            "1621 1\n",
            "Peluchonneau 1\n",
            "şairane 1\n",
            "bitecekmiş 1\n"
          ]
        }
      ]
    },
    {
      "cell_type": "code",
      "source": [
        "filmler_tf_idf = np.zeros((film_sayisi, vocab_size))\n",
        "film_sayisi = len(clean)\n",
        "\n",
        "for i, film in enumerate(filmler):\n",
        "    if i % 1000 == 0:\n",
        "        print(f\"{i} inci film işleniyor...\")\n",
        "    for j, tf in enumerate(film):\n",
        "        idf = 0\n",
        "        if tf > 0:\n",
        "            idf = np.log(film_sayisi / (doc_frequencies[idx2word[j]] + 1)) + 1\n",
        "        tf_idf_score = tf * idf\n",
        "        filmler_tf_idf[i][j] = tf_idf_score"
      ],
      "metadata": {
        "colab": {
          "base_uri": "https://localhost:8080/"
        },
        "id": "dEKgCc-m9wk9",
        "outputId": "dba78da8-a5dc-4f20-c841-d66018186341"
      },
      "execution_count": 36,
      "outputs": [
        {
          "output_type": "stream",
          "name": "stdout",
          "text": [
            "0 inci film işleniyor...\n",
            "1000 inci film işleniyor...\n",
            "2000 inci film işleniyor...\n",
            "3000 inci film işleniyor...\n",
            "4000 inci film işleniyor...\n",
            "5000 inci film işleniyor...\n"
          ]
        }
      ]
    },
    {
      "cell_type": "code",
      "source": [
        "print(filmler_tf_idf[0][:10])\n",
        "print(filmler[0][:10])"
      ],
      "metadata": {
        "colab": {
          "base_uri": "https://localhost:8080/"
        },
        "id": "-p4nXYJN-sZl",
        "outputId": "a23001a4-95a4-471f-b906-ebb21c8bedba"
      },
      "execution_count": 37,
      "outputs": [
        {
          "output_type": "stream",
          "name": "stdout",
          "text": [
            "[15.91727698  5.6762561   2.64346401  3.71300448  2.00038019 81.81782041\n",
            "  7.50567832  7.43327815  9.68137717  1.43536991]\n",
            "[ 2.  1.  1.  1.  2. 10.  4.  4.  2.  1.]\n"
          ]
        }
      ]
    },
    {
      "cell_type": "code",
      "source": [
        "def cos_sim(v1, v2):\n",
        "    return np.dot(v1, v2) / (np.linalg.norm(v1) * np.linalg.norm(v2))"
      ],
      "metadata": {
        "id": "yNn0NQxw-sfV"
      },
      "execution_count": 38,
      "outputs": []
    },
    {
      "cell_type": "code",
      "source": [
        "def film_2_str(row_index):\n",
        "    film = df.iloc[row_index]\n",
        "    adi = film['film adi']\n",
        "    turu = film['tur']\n",
        "    ozet = film['ozet ve detaylar']\n",
        "    if len(ozet) > 150:\n",
        "        ozet = ozet[:150] + \"...\"\n",
        "\n",
        "    return f\"Film adı: {adi} \\nTürü: {turu} \\nÖzeti: {ozet}\""
      ],
      "metadata": {
        "id": "OSk3_iJr-sj2"
      },
      "execution_count": 39,
      "outputs": []
    },
    {
      "cell_type": "code",
      "source": [
        "def most_similar_films(film_adi, benzer_film_sayisi):\n",
        "    film_indexi = df[df[\"film adi\"] == film_adi].index[0]\n",
        "    print(\"Aranan Film:\")\n",
        "    print(film_2_str(film_indexi))\n",
        "    print()\n",
        "    print(\"* \" * 30)\n",
        "    print()\n",
        "\n",
        "    benzerlikler = []\n",
        "    sorgu_film = filmler_tf_idf[film_indexi]\n",
        "    for vec in filmler_tf_idf:\n",
        "        benzerlik = cos_sim(sorgu_film, vec)\n",
        "      \n",
        "        benzerlikler.append(benzerlik)\n",
        "    k=0\n",
        "    en_benzer_film_indexleri = (- np.array(benzerlikler)).argsort()[:10]\n",
        "    for h  in range(10): \n",
        "      film = df.iloc[en_benzer_film_indexleri[h]] \n",
        "      filmasıl = df.iloc[film_indexi] \n",
        "      if film['tur']==filmasıl['tur']: \n",
        "        if k<5:\n",
        "          en_benzer_film_indexleri[k]=en_benzer_film_indexleri[h] \n",
        "          k=k+1\n",
        "    \n",
        "    print(\"Benzer Filmler:\\n\")\n",
        "    for i, film_idx in enumerate(en_benzer_film_indexleri[1:4]):\n",
        "        print(str(i+1) + \") \" + film_2_str(film_idx))\n",
        "        print()\n",
        "        print(\"- \" * 20)\n",
        "        print()"
      ],
      "metadata": {
        "id": "MCOuCeQi-sp2"
      },
      "execution_count": 40,
      "outputs": []
    },
    {
      "cell_type": "code",
      "source": [
        "df.iloc[:10][\"film adi\"]"
      ],
      "metadata": {
        "colab": {
          "base_uri": "https://localhost:8080/"
        },
        "id": "btvXOzx--6mF",
        "outputId": "b7d7fd89-156c-4ab7-9611-28de3fbedc8f"
      },
      "execution_count": 41,
      "outputs": [
        {
          "output_type": "execute_result",
          "data": {
            "text/plain": [
              "0                                         Bergen\n",
              "1                                  Kirpi Sonic 2\n",
              "2    Fantastik Canavarlar: Dumbledore'un Sırları\n",
              "3                                 Aykut Enişte 2\n",
              "4                                        Morbius\n",
              "5                                        Kırmızı\n",
              "6                                            Kar\n",
              "7                    Kesişme: İyi ki Varsın Eren\n",
              "8                     Örümcek-Adam Eve Dönüş Yok\n",
              "9                                     The Batman\n",
              "Name: film adi, dtype: object"
            ]
          },
          "metadata": {},
          "execution_count": 41
        }
      ]
    },
    {
      "cell_type": "code",
      "source": [
        "most_similar_films(\"Fantastik Canavarlar: Dumbledore'un Sırları\", 3)"
      ],
      "metadata": {
        "colab": {
          "base_uri": "https://localhost:8080/"
        },
        "id": "ZM9Sgvq2-8x8",
        "outputId": "6944cd7c-42dd-49ea-e64d-cc34496dab60"
      },
      "execution_count": 53,
      "outputs": [
        {
          "output_type": "stream",
          "name": "stdout",
          "text": [
            "Aranan Film:\n",
            "Film adı: Fantastik Canavarlar: Dumbledore'un Sırları \n",
            "Türü: ['Fantastik', 'Macera'] \n",
            "Özeti: Karanlık büyücü Gellert Grindelwald, büyücülük dünyasının kontrolünü ele geçirmek için harekete geçmiştir. Bunu öğrenen Profesör Albus Dumbledore, önc...\n",
            "\n",
            "* * * * * * * * * * * * * * * * * * * * * * * * * * * * * * \n",
            "\n",
            "Benzer Filmler:\n",
            "\n",
            "1) Film adı: Fantastik Canavarlar: Grindelwald'ın Suçları \n",
            "Türü: ['Fantastik', 'Macera'] \n",
            "Özeti: Newt Scamander'ın da yardımıyla Amerika Birleşik Devletleri Sihir Kongresi (MACUSA) tarafından yakalanan karanlık büyücü Gellert Grindelwald kaçmayı b...\n",
            "\n",
            "- - - - - - - - - - - - - - - - - - - - \n",
            "\n",
            "2) Film adı: Fantastik Canavarlar Nelerdir, Nerede Bulunurlar? \n",
            "Türü: ['Fantastik', 'Macera'] \n",
            "Özeti: JK Rowling'in aynı isimli fantastik ansiklopedik kitabına dayanan Fantastik Canavarlar Nelerdir, Nerede Bulunurlar? filmi fantastik yaratıklar hakkınd...\n",
            "\n",
            "- - - - - - - - - - - - - - - - - - - - \n",
            "\n",
            "3) Film adı: Harry Potter ve Ölüm Yadigarları: Bölüm 2 \n",
            "Türü: ['Fantastik', 'Macera'] \n",
            "Özeti: Harry Potter Ve Ölüm Yadigarları: Bölüm 2'de, Lord Voldemort'un ruhunun parçalarının bir kısmını bulup yok eden Harry, Ron ve Hermione, Dumbledore'un ...\n",
            "\n",
            "- - - - - - - - - - - - - - - - - - - - \n",
            "\n"
          ]
        }
      ]
    }
  ]
}